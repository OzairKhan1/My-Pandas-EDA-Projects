{
 "cells": [
  {
   "cell_type": "markdown",
   "id": "f546a62f-c57e-4714-beb7-24773e6bd4e6",
   "metadata": {},
   "source": [
    "### Pandas Project 4"
   ]
  },
  {
   "cell_type": "raw",
   "id": "369db8ce-fef4-4e1d-9534-4566f961e21f",
   "metadata": {},
   "source": [
    "Summary::\n",
    "\n",
    "Features of the dataset: \n",
    "\n",
    "- survival - Survival (0 = No; 1 = Yes)\n",
    "- class - Passenger Class (1 = 1st; 2 = 2nd; 3 = 3rd)\n",
    "- name - Name\n",
    "- sex - Sex\n",
    "- age - Age\n",
    "- sibsp - Number of Siblings/Spouses Aboard\n",
    "- parch - Number of Parents/Children Aboard\n",
    "- ticket - Ticket Number\n",
    "- fare - Passenger Fare\n",
    "- cabin - Cabin\n",
    "- embarked - Port of Embarkation (C = Cherbourg; Q = Queenstown; S = Southampton)\n",
    "   \n",
    "\n",
    "1. Display Top 5 Rows of The Dataset\n",
    "2. Check the Last 3 Rows of The Dataset\n",
    "3. Find Shape of Our Dataset (Number of Rows & Number of Columns)\n",
    "4. Get Information About Our Dataset Like Total Number Rows, Total Number of Columns, Datatypes of Each Column And Memory Requirement\n",
    "5. Get Overall Statistics About The Dataframe\n",
    "6. Data Filtering\n",
    "7.Check Null Values In The Dataset\n",
    "8. Drop the Column\n",
    "9. Handle Missing Values\n",
    "10. Categorical Data Encoding\n",
    "\n",
    "\n",
    "                                                  Part 1\n",
    "1) In part 1 We did Data Filtering, Plotting, and Categorical encoding using map() for Sex columns.\n",
    "\n",
    "2) .insert(loc, col_Name, expression)     for insertion operation to the data at specific location.\n",
    "\n",
    "\n",
    "                                                Part - 2\n",
    "1) ploting: sns.countplot(), sns.barplot()\n",
    "\n",
    "2) pd.cut(): this is use the cut the data into various bins. \n",
    "\n",
    "3) pd.get_dummies(data, columns = [], drop_first): is used to replce the categorical column if the data is more then 2. \n",
    "It will replace those values by 0 and 1. for 3 different data we got 3 cols , so we delete the first col because the 2 are enough to provide the insight about the data. \n",
    "\n",
    "4) In case of plotting we can use the hue  = 'another class' to see the contribution of more than 1 col"
   ]
  },
  {
   "cell_type": "code",
   "execution_count": 34,
   "id": "a0e4a563-c6cc-4f11-a232-59f0f4717653",
   "metadata": {},
   "outputs": [],
   "source": [
    "import pandas as pd\n",
    "import matplotlib.pyplot as plt\n",
    "import seaborn as sns\n",
    "import numpy as np\n"
   ]
  },
  {
   "cell_type": "code",
   "execution_count": 35,
   "id": "19984c24-4008-412d-bfa3-ce36ebb023ba",
   "metadata": {},
   "outputs": [],
   "source": [
    "pd.set_option('display.max_columns', 200)"
   ]
  },
  {
   "cell_type": "code",
   "execution_count": 36,
   "id": "86b4c4c7-1c7d-4552-8e8c-482d3d0761c7",
   "metadata": {},
   "outputs": [],
   "source": [
    "data = pd.read_csv(r'F:\\Pandas Project 2024\\Pandas DataSets\\train.csv')"
   ]
  },
  {
   "cell_type": "code",
   "execution_count": 37,
   "id": "3c354ce3-6f73-465b-b723-b4eb9c84cf08",
   "metadata": {},
   "outputs": [
    {
     "data": {
      "text/html": [
       "<div>\n",
       "<style scoped>\n",
       "    .dataframe tbody tr th:only-of-type {\n",
       "        vertical-align: middle;\n",
       "    }\n",
       "\n",
       "    .dataframe tbody tr th {\n",
       "        vertical-align: top;\n",
       "    }\n",
       "\n",
       "    .dataframe thead th {\n",
       "        text-align: right;\n",
       "    }\n",
       "</style>\n",
       "<table border=\"1\" class=\"dataframe\">\n",
       "  <thead>\n",
       "    <tr style=\"text-align: right;\">\n",
       "      <th></th>\n",
       "      <th>PassengerId</th>\n",
       "      <th>Survived</th>\n",
       "      <th>Pclass</th>\n",
       "      <th>Name</th>\n",
       "      <th>Sex</th>\n",
       "      <th>Age</th>\n",
       "      <th>SibSp</th>\n",
       "      <th>Parch</th>\n",
       "      <th>Ticket</th>\n",
       "      <th>Fare</th>\n",
       "      <th>Cabin</th>\n",
       "      <th>Embarked</th>\n",
       "    </tr>\n",
       "  </thead>\n",
       "  <tbody>\n",
       "    <tr>\n",
       "      <th>0</th>\n",
       "      <td>1</td>\n",
       "      <td>0</td>\n",
       "      <td>3</td>\n",
       "      <td>Braund, Mr. Owen Harris</td>\n",
       "      <td>male</td>\n",
       "      <td>22.0</td>\n",
       "      <td>1</td>\n",
       "      <td>0</td>\n",
       "      <td>A/5 21171</td>\n",
       "      <td>7.2500</td>\n",
       "      <td>NaN</td>\n",
       "      <td>S</td>\n",
       "    </tr>\n",
       "    <tr>\n",
       "      <th>1</th>\n",
       "      <td>2</td>\n",
       "      <td>1</td>\n",
       "      <td>1</td>\n",
       "      <td>Cumings, Mrs. John Bradley (Florence Briggs Th...</td>\n",
       "      <td>female</td>\n",
       "      <td>38.0</td>\n",
       "      <td>1</td>\n",
       "      <td>0</td>\n",
       "      <td>PC 17599</td>\n",
       "      <td>71.2833</td>\n",
       "      <td>C85</td>\n",
       "      <td>C</td>\n",
       "    </tr>\n",
       "  </tbody>\n",
       "</table>\n",
       "</div>"
      ],
      "text/plain": [
       "   PassengerId  Survived  Pclass  \\\n",
       "0            1         0       3   \n",
       "1            2         1       1   \n",
       "\n",
       "                                                Name     Sex   Age  SibSp  \\\n",
       "0                            Braund, Mr. Owen Harris    male  22.0      1   \n",
       "1  Cumings, Mrs. John Bradley (Florence Briggs Th...  female  38.0      1   \n",
       "\n",
       "   Parch     Ticket     Fare Cabin Embarked  \n",
       "0      0  A/5 21171   7.2500   NaN        S  \n",
       "1      0   PC 17599  71.2833   C85        C  "
      ]
     },
     "execution_count": 37,
     "metadata": {},
     "output_type": "execute_result"
    }
   ],
   "source": [
    "# 1: Check the first 2 rows\n",
    "data.head(2)"
   ]
  },
  {
   "cell_type": "code",
   "execution_count": 38,
   "id": "bca1cccd-0caf-49b1-8b40-8b1f952693cd",
   "metadata": {},
   "outputs": [
    {
     "data": {
      "text/html": [
       "<div>\n",
       "<style scoped>\n",
       "    .dataframe tbody tr th:only-of-type {\n",
       "        vertical-align: middle;\n",
       "    }\n",
       "\n",
       "    .dataframe tbody tr th {\n",
       "        vertical-align: top;\n",
       "    }\n",
       "\n",
       "    .dataframe thead th {\n",
       "        text-align: right;\n",
       "    }\n",
       "</style>\n",
       "<table border=\"1\" class=\"dataframe\">\n",
       "  <thead>\n",
       "    <tr style=\"text-align: right;\">\n",
       "      <th></th>\n",
       "      <th>PassengerId</th>\n",
       "      <th>Survived</th>\n",
       "      <th>Pclass</th>\n",
       "      <th>Name</th>\n",
       "      <th>Sex</th>\n",
       "      <th>Age</th>\n",
       "      <th>SibSp</th>\n",
       "      <th>Parch</th>\n",
       "      <th>Ticket</th>\n",
       "      <th>Fare</th>\n",
       "      <th>Cabin</th>\n",
       "      <th>Embarked</th>\n",
       "    </tr>\n",
       "  </thead>\n",
       "  <tbody>\n",
       "    <tr>\n",
       "      <th>890</th>\n",
       "      <td>891</td>\n",
       "      <td>0</td>\n",
       "      <td>3</td>\n",
       "      <td>Dooley, Mr. Patrick</td>\n",
       "      <td>male</td>\n",
       "      <td>32.0</td>\n",
       "      <td>0</td>\n",
       "      <td>0</td>\n",
       "      <td>370376</td>\n",
       "      <td>7.75</td>\n",
       "      <td>NaN</td>\n",
       "      <td>Q</td>\n",
       "    </tr>\n",
       "  </tbody>\n",
       "</table>\n",
       "</div>"
      ],
      "text/plain": [
       "     PassengerId  Survived  Pclass                 Name   Sex   Age  SibSp  \\\n",
       "890          891         0       3  Dooley, Mr. Patrick  male  32.0      0   \n",
       "\n",
       "     Parch  Ticket  Fare Cabin Embarked  \n",
       "890      0  370376  7.75   NaN        Q  "
      ]
     },
     "execution_count": 38,
     "metadata": {},
     "output_type": "execute_result"
    }
   ],
   "source": [
    "# 2: Check the last row\n",
    "data.tail(1)"
   ]
  },
  {
   "cell_type": "code",
   "execution_count": 39,
   "id": "de41e0e2-058e-4005-83b1-3b3b46aa1911",
   "metadata": {},
   "outputs": [
    {
     "data": {
      "text/plain": [
       "(891, 12)"
      ]
     },
     "execution_count": 39,
     "metadata": {},
     "output_type": "execute_result"
    }
   ],
   "source": [
    "# 3: Find the shape \n",
    "data.shape"
   ]
  },
  {
   "cell_type": "code",
   "execution_count": 40,
   "id": "4139e929-0676-4b11-a56a-a1f5a86e51ca",
   "metadata": {},
   "outputs": [
    {
     "name": "stdout",
     "output_type": "stream",
     "text": [
      "(891, 12)\n"
     ]
    }
   ],
   "source": [
    "# second way\n",
    "print((data.index.stop,len(data.columns)))\n"
   ]
  },
  {
   "cell_type": "code",
   "execution_count": 41,
   "id": "63c42d51-fbc9-4a7d-90cd-e3bcb19b4ca4",
   "metadata": {},
   "outputs": [
    {
     "name": "stdout",
     "output_type": "stream",
     "text": [
      "<class 'pandas.core.frame.DataFrame'>\n",
      "RangeIndex: 891 entries, 0 to 890\n",
      "Data columns (total 12 columns):\n",
      " #   Column       Non-Null Count  Dtype  \n",
      "---  ------       --------------  -----  \n",
      " 0   PassengerId  891 non-null    int64  \n",
      " 1   Survived     891 non-null    int64  \n",
      " 2   Pclass       891 non-null    int64  \n",
      " 3   Name         891 non-null    object \n",
      " 4   Sex          891 non-null    object \n",
      " 5   Age          714 non-null    float64\n",
      " 6   SibSp        891 non-null    int64  \n",
      " 7   Parch        891 non-null    int64  \n",
      " 8   Ticket       891 non-null    object \n",
      " 9   Fare         891 non-null    float64\n",
      " 10  Cabin        204 non-null    object \n",
      " 11  Embarked     889 non-null    object \n",
      "dtypes: float64(2), int64(5), object(5)\n",
      "memory usage: 83.7+ KB\n"
     ]
    }
   ],
   "source": [
    "# 4. Get Information About Our Dataset Like Total Number Rows, Total Number of Columns, Datatypes of Each Column And Memory Requirement\n",
    "data.info()"
   ]
  },
  {
   "cell_type": "code",
   "execution_count": 42,
   "id": "5306d15b-0320-42ad-8c9f-5026345ddfec",
   "metadata": {},
   "outputs": [
    {
     "data": {
      "text/html": [
       "<div>\n",
       "<style scoped>\n",
       "    .dataframe tbody tr th:only-of-type {\n",
       "        vertical-align: middle;\n",
       "    }\n",
       "\n",
       "    .dataframe tbody tr th {\n",
       "        vertical-align: top;\n",
       "    }\n",
       "\n",
       "    .dataframe thead th {\n",
       "        text-align: right;\n",
       "    }\n",
       "</style>\n",
       "<table border=\"1\" class=\"dataframe\">\n",
       "  <thead>\n",
       "    <tr style=\"text-align: right;\">\n",
       "      <th></th>\n",
       "      <th>PassengerId</th>\n",
       "      <th>Survived</th>\n",
       "      <th>Pclass</th>\n",
       "      <th>Age</th>\n",
       "      <th>SibSp</th>\n",
       "      <th>Parch</th>\n",
       "      <th>Fare</th>\n",
       "    </tr>\n",
       "  </thead>\n",
       "  <tbody>\n",
       "    <tr>\n",
       "      <th>count</th>\n",
       "      <td>891.000000</td>\n",
       "      <td>891.000000</td>\n",
       "      <td>891.000000</td>\n",
       "      <td>714.000000</td>\n",
       "      <td>891.000000</td>\n",
       "      <td>891.000000</td>\n",
       "      <td>891.000000</td>\n",
       "    </tr>\n",
       "    <tr>\n",
       "      <th>mean</th>\n",
       "      <td>446.000000</td>\n",
       "      <td>0.383838</td>\n",
       "      <td>2.308642</td>\n",
       "      <td>29.699118</td>\n",
       "      <td>0.523008</td>\n",
       "      <td>0.381594</td>\n",
       "      <td>32.204208</td>\n",
       "    </tr>\n",
       "    <tr>\n",
       "      <th>std</th>\n",
       "      <td>257.353842</td>\n",
       "      <td>0.486592</td>\n",
       "      <td>0.836071</td>\n",
       "      <td>14.526497</td>\n",
       "      <td>1.102743</td>\n",
       "      <td>0.806057</td>\n",
       "      <td>49.693429</td>\n",
       "    </tr>\n",
       "    <tr>\n",
       "      <th>min</th>\n",
       "      <td>1.000000</td>\n",
       "      <td>0.000000</td>\n",
       "      <td>1.000000</td>\n",
       "      <td>0.420000</td>\n",
       "      <td>0.000000</td>\n",
       "      <td>0.000000</td>\n",
       "      <td>0.000000</td>\n",
       "    </tr>\n",
       "    <tr>\n",
       "      <th>25%</th>\n",
       "      <td>223.500000</td>\n",
       "      <td>0.000000</td>\n",
       "      <td>2.000000</td>\n",
       "      <td>20.125000</td>\n",
       "      <td>0.000000</td>\n",
       "      <td>0.000000</td>\n",
       "      <td>7.910400</td>\n",
       "    </tr>\n",
       "    <tr>\n",
       "      <th>50%</th>\n",
       "      <td>446.000000</td>\n",
       "      <td>0.000000</td>\n",
       "      <td>3.000000</td>\n",
       "      <td>28.000000</td>\n",
       "      <td>0.000000</td>\n",
       "      <td>0.000000</td>\n",
       "      <td>14.454200</td>\n",
       "    </tr>\n",
       "    <tr>\n",
       "      <th>75%</th>\n",
       "      <td>668.500000</td>\n",
       "      <td>1.000000</td>\n",
       "      <td>3.000000</td>\n",
       "      <td>38.000000</td>\n",
       "      <td>1.000000</td>\n",
       "      <td>0.000000</td>\n",
       "      <td>31.000000</td>\n",
       "    </tr>\n",
       "    <tr>\n",
       "      <th>max</th>\n",
       "      <td>891.000000</td>\n",
       "      <td>1.000000</td>\n",
       "      <td>3.000000</td>\n",
       "      <td>80.000000</td>\n",
       "      <td>8.000000</td>\n",
       "      <td>6.000000</td>\n",
       "      <td>512.329200</td>\n",
       "    </tr>\n",
       "  </tbody>\n",
       "</table>\n",
       "</div>"
      ],
      "text/plain": [
       "       PassengerId    Survived      Pclass         Age       SibSp  \\\n",
       "count   891.000000  891.000000  891.000000  714.000000  891.000000   \n",
       "mean    446.000000    0.383838    2.308642   29.699118    0.523008   \n",
       "std     257.353842    0.486592    0.836071   14.526497    1.102743   \n",
       "min       1.000000    0.000000    1.000000    0.420000    0.000000   \n",
       "25%     223.500000    0.000000    2.000000   20.125000    0.000000   \n",
       "50%     446.000000    0.000000    3.000000   28.000000    0.000000   \n",
       "75%     668.500000    1.000000    3.000000   38.000000    1.000000   \n",
       "max     891.000000    1.000000    3.000000   80.000000    8.000000   \n",
       "\n",
       "            Parch        Fare  \n",
       "count  891.000000  891.000000  \n",
       "mean     0.381594   32.204208  \n",
       "std      0.806057   49.693429  \n",
       "min      0.000000    0.000000  \n",
       "25%      0.000000    7.910400  \n",
       "50%      0.000000   14.454200  \n",
       "75%      0.000000   31.000000  \n",
       "max      6.000000  512.329200  "
      ]
     },
     "execution_count": 42,
     "metadata": {},
     "output_type": "execute_result"
    }
   ],
   "source": [
    "# 5. Get Overall Statistics About The Dataframe\n",
    "data.describe()"
   ]
  },
  {
   "cell_type": "code",
   "execution_count": 43,
   "id": "5fa57fb3-ecee-4a22-88e5-7c40fea40c7d",
   "metadata": {},
   "outputs": [
    {
     "data": {
      "text/html": [
       "<div>\n",
       "<style scoped>\n",
       "    .dataframe tbody tr th:only-of-type {\n",
       "        vertical-align: middle;\n",
       "    }\n",
       "\n",
       "    .dataframe tbody tr th {\n",
       "        vertical-align: top;\n",
       "    }\n",
       "\n",
       "    .dataframe thead th {\n",
       "        text-align: right;\n",
       "    }\n",
       "</style>\n",
       "<table border=\"1\" class=\"dataframe\">\n",
       "  <thead>\n",
       "    <tr style=\"text-align: right;\">\n",
       "      <th></th>\n",
       "      <th>Name</th>\n",
       "      <th>Sex</th>\n",
       "      <th>Age</th>\n",
       "    </tr>\n",
       "  </thead>\n",
       "  <tbody>\n",
       "    <tr>\n",
       "      <th>0</th>\n",
       "      <td>Braund, Mr. Owen Harris</td>\n",
       "      <td>male</td>\n",
       "      <td>22.0</td>\n",
       "    </tr>\n",
       "    <tr>\n",
       "      <th>1</th>\n",
       "      <td>Cumings, Mrs. John Bradley (Florence Briggs Th...</td>\n",
       "      <td>female</td>\n",
       "      <td>38.0</td>\n",
       "    </tr>\n",
       "    <tr>\n",
       "      <th>2</th>\n",
       "      <td>Heikkinen, Miss. Laina</td>\n",
       "      <td>female</td>\n",
       "      <td>26.0</td>\n",
       "    </tr>\n",
       "    <tr>\n",
       "      <th>3</th>\n",
       "      <td>Futrelle, Mrs. Jacques Heath (Lily May Peel)</td>\n",
       "      <td>female</td>\n",
       "      <td>35.0</td>\n",
       "    </tr>\n",
       "    <tr>\n",
       "      <th>4</th>\n",
       "      <td>Allen, Mr. William Henry</td>\n",
       "      <td>male</td>\n",
       "      <td>35.0</td>\n",
       "    </tr>\n",
       "    <tr>\n",
       "      <th>...</th>\n",
       "      <td>...</td>\n",
       "      <td>...</td>\n",
       "      <td>...</td>\n",
       "    </tr>\n",
       "    <tr>\n",
       "      <th>886</th>\n",
       "      <td>Montvila, Rev. Juozas</td>\n",
       "      <td>male</td>\n",
       "      <td>27.0</td>\n",
       "    </tr>\n",
       "    <tr>\n",
       "      <th>887</th>\n",
       "      <td>Graham, Miss. Margaret Edith</td>\n",
       "      <td>female</td>\n",
       "      <td>19.0</td>\n",
       "    </tr>\n",
       "    <tr>\n",
       "      <th>888</th>\n",
       "      <td>Johnston, Miss. Catherine Helen \"Carrie\"</td>\n",
       "      <td>female</td>\n",
       "      <td>NaN</td>\n",
       "    </tr>\n",
       "    <tr>\n",
       "      <th>889</th>\n",
       "      <td>Behr, Mr. Karl Howell</td>\n",
       "      <td>male</td>\n",
       "      <td>26.0</td>\n",
       "    </tr>\n",
       "    <tr>\n",
       "      <th>890</th>\n",
       "      <td>Dooley, Mr. Patrick</td>\n",
       "      <td>male</td>\n",
       "      <td>32.0</td>\n",
       "    </tr>\n",
       "  </tbody>\n",
       "</table>\n",
       "<p>891 rows × 3 columns</p>\n",
       "</div>"
      ],
      "text/plain": [
       "                                                  Name     Sex   Age\n",
       "0                              Braund, Mr. Owen Harris    male  22.0\n",
       "1    Cumings, Mrs. John Bradley (Florence Briggs Th...  female  38.0\n",
       "2                               Heikkinen, Miss. Laina  female  26.0\n",
       "3         Futrelle, Mrs. Jacques Heath (Lily May Peel)  female  35.0\n",
       "4                             Allen, Mr. William Henry    male  35.0\n",
       "..                                                 ...     ...   ...\n",
       "886                              Montvila, Rev. Juozas    male  27.0\n",
       "887                       Graham, Miss. Margaret Edith  female  19.0\n",
       "888           Johnston, Miss. Catherine Helen \"Carrie\"  female   NaN\n",
       "889                              Behr, Mr. Karl Howell    male  26.0\n",
       "890                                Dooley, Mr. Patrick    male  32.0\n",
       "\n",
       "[891 rows x 3 columns]"
      ]
     },
     "execution_count": 43,
     "metadata": {},
     "output_type": "execute_result"
    }
   ],
   "source": [
    "# 6: Data Filtering: how to select cols and rows form data set\n",
    "# to select 1 col we have\n",
    "data['Name']      # This is how we choose 1 col\n",
    "\n",
    "\n",
    "# But for chosing more than 1 col we have to enslist them in pytohon list\n",
    "data[['Name', 'Sex','Age']]    # here is a list of list"
   ]
  },
  {
   "cell_type": "code",
   "execution_count": 44,
   "id": "25f1b41f-49b4-4c3b-99c7-5d4d8fed6a83",
   "metadata": {},
   "outputs": [],
   "source": [
    "# More to Data Filtering"
   ]
  },
  {
   "cell_type": "code",
   "execution_count": 45,
   "id": "3ea0c496-f686-4c6e-8439-b6e304cac197",
   "metadata": {},
   "outputs": [
    {
     "name": "stdout",
     "output_type": "stream",
     "text": [
      "Number of Male in the ship:  577\n",
      "Number of Female in the ship:  314\n"
     ]
    }
   ],
   "source": [
    "# Check the male and female \n",
    "print(\"Number of Male in the ship: \",sum(data['Sex'] == 'male'))\n",
    "print(\"Number of Female in the ship: \",sum(data['Sex'] == 'female'))"
   ]
  },
  {
   "cell_type": "code",
   "execution_count": 46,
   "id": "d20c4003-2b12-4165-b2c4-4c0534a2c0bb",
   "metadata": {},
   "outputs": [
    {
     "data": {
      "text/html": [
       "<div>\n",
       "<style scoped>\n",
       "    .dataframe tbody tr th:only-of-type {\n",
       "        vertical-align: middle;\n",
       "    }\n",
       "\n",
       "    .dataframe tbody tr th {\n",
       "        vertical-align: top;\n",
       "    }\n",
       "\n",
       "    .dataframe thead th {\n",
       "        text-align: right;\n",
       "    }\n",
       "</style>\n",
       "<table border=\"1\" class=\"dataframe\">\n",
       "  <thead>\n",
       "    <tr style=\"text-align: right;\">\n",
       "      <th></th>\n",
       "      <th>PassengerId</th>\n",
       "      <th>Survived</th>\n",
       "      <th>Pclass</th>\n",
       "      <th>Name</th>\n",
       "      <th>Sex</th>\n",
       "      <th>Age</th>\n",
       "      <th>SibSp</th>\n",
       "      <th>Parch</th>\n",
       "      <th>Ticket</th>\n",
       "      <th>Fare</th>\n",
       "      <th>Cabin</th>\n",
       "      <th>Embarked</th>\n",
       "    </tr>\n",
       "  </thead>\n",
       "  <tbody>\n",
       "    <tr>\n",
       "      <th>0</th>\n",
       "      <td>1</td>\n",
       "      <td>0</td>\n",
       "      <td>3</td>\n",
       "      <td>Braund, Mr. Owen Harris</td>\n",
       "      <td>male</td>\n",
       "      <td>22.0</td>\n",
       "      <td>1</td>\n",
       "      <td>0</td>\n",
       "      <td>A/5 21171</td>\n",
       "      <td>7.25</td>\n",
       "      <td>NaN</td>\n",
       "      <td>S</td>\n",
       "    </tr>\n",
       "  </tbody>\n",
       "</table>\n",
       "</div>"
      ],
      "text/plain": [
       "   PassengerId  Survived  Pclass                     Name   Sex   Age  SibSp  \\\n",
       "0            1         0       3  Braund, Mr. Owen Harris  male  22.0      1   \n",
       "\n",
       "   Parch     Ticket  Fare Cabin Embarked  \n",
       "0      0  A/5 21171  7.25   NaN        S  "
      ]
     },
     "execution_count": 46,
     "metadata": {},
     "output_type": "execute_result"
    }
   ],
   "source": [
    "# Check the data of Single Male \n",
    "data[data['Sex'] == 'male'].head(1)"
   ]
  },
  {
   "cell_type": "code",
   "execution_count": 47,
   "id": "5f6635e0-7309-48f6-87b3-f674d7b2bbb0",
   "metadata": {},
   "outputs": [
    {
     "name": "stdout",
     "output_type": "stream",
     "text": [
      "The Survived are:  342\n"
     ]
    }
   ],
   "source": [
    "# Check how many of them survive\n",
    "print(\"The Survived are: \",sum(data['Survived'] == 1))"
   ]
  },
  {
   "cell_type": "code",
   "execution_count": 48,
   "id": "61674afd-f6e4-4381-8433-c97ff971ac30",
   "metadata": {},
   "outputs": [
    {
     "data": {
      "text/plain": [
       "Sex\n",
       "female    233\n",
       "male      109\n",
       "Name: count, dtype: int64"
      ]
     },
     "execution_count": 48,
     "metadata": {},
     "output_type": "execute_result"
    }
   ],
   "source": [
    "# The number of poeple survived Male and Female\n",
    "data[data['Survived'] == 1]['Sex'].value_counts()"
   ]
  },
  {
   "cell_type": "code",
   "execution_count": 49,
   "id": "eeab91f9-bf33-4cec-a4d7-a7a183cd42da",
   "metadata": {},
   "outputs": [
    {
     "data": {
      "text/plain": [
       "PassengerId      0\n",
       "Survived         0\n",
       "Pclass           0\n",
       "Name             0\n",
       "Sex              0\n",
       "Age            177\n",
       "SibSp            0\n",
       "Parch            0\n",
       "Ticket           0\n",
       "Fare             0\n",
       "Cabin          687\n",
       "Embarked         2\n",
       "dtype: int64"
      ]
     },
     "execution_count": 49,
     "metadata": {},
     "output_type": "execute_result"
    }
   ],
   "source": [
    "# Check the null values in the dataset\n",
    "data.isnull().sum()     # 3 cols have null values"
   ]
  },
  {
   "cell_type": "code",
   "execution_count": 50,
   "id": "5b0e8846-c7de-4692-935c-f110f2b1a12f",
   "metadata": {},
   "outputs": [
    {
     "data": {
      "text/plain": [
       "<Axes: >"
      ]
     },
     "execution_count": 50,
     "metadata": {},
     "output_type": "execute_result"
    },
    {
     "data": {
      "image/png": "[encoded data removed]",
      "text/plain": [
       "<Figure size 640x480 with 2 Axes>"
      ]
     },
     "metadata": {},
     "output_type": "display_data"
    }
   ],
   "source": [
    "# Visualize the heatmap to check the null values\n",
    "sns.heatmap(data.isnull())      # Cabin has more null values than Age and Embarked"
   ]
  },
  {
   "cell_type": "code",
   "execution_count": 51,
   "id": "cdfb0fbd-9862-48bd-a6e5-2954e3b5f583",
   "metadata": {},
   "outputs": [],
   "source": [
    "# we can calculate the percentage of null values as well\n",
    "\n",
    "percentage = data.isnull().sum()/len(data) * 100"
   ]
  },
  {
   "cell_type": "code",
   "execution_count": 52,
   "id": "857ecd21-fb72-47a0-9f71-5335fe55d630",
   "metadata": {},
   "outputs": [
    {
     "data": {
      "text/plain": [
       "PassengerId     0.000000\n",
       "Survived        0.000000\n",
       "Pclass          0.000000\n",
       "Name            0.000000\n",
       "Sex             0.000000\n",
       "Age            19.865320\n",
       "SibSp           0.000000\n",
       "Parch           0.000000\n",
       "Ticket          0.000000\n",
       "Fare            0.000000\n",
       "Cabin          77.104377\n",
       "Embarked        0.224467\n",
       "dtype: float64"
      ]
     },
     "execution_count": 52,
     "metadata": {},
     "output_type": "execute_result"
    }
   ],
   "source": [
    "percentage"
   ]
  },
  {
   "cell_type": "code",
   "execution_count": 53,
   "id": "beb42fcf-4501-4da0-92a1-ac1d67640cca",
   "metadata": {},
   "outputs": [],
   "source": [
    "# Cabin has a lot of null values so let's drop it\n",
    "data.drop('Cabin',axis = 1,inplace = True)"
   ]
  },
  {
   "cell_type": "code",
   "execution_count": 54,
   "id": "ddf054df-ee2e-4e5d-b36f-ff4563625ead",
   "metadata": {},
   "outputs": [],
   "source": [
    "# Now we need to fill the NaN in the age and Embark cols\n",
    "\n",
    "# To fill the age columns we can fill it with mean() value\n",
    "\n",
    "data['Age'] = data['Age'].fillna(data['Age'].mean())"
   ]
  },
  {
   "cell_type": "code",
   "execution_count": 55,
   "id": "821ee17b-0060-4fbd-8d60-7fbdb2aa29d0",
   "metadata": {},
   "outputs": [
    {
     "name": "stdout",
     "output_type": "stream",
     "text": [
      "Before Filling:  Embarked\n",
      "S    644\n",
      "C    168\n",
      "Q     77\n",
      "Name: count, dtype: int64\n",
      "After Filling:  Embarked\n",
      "S    646\n",
      "C    168\n",
      "Q     77\n",
      "Name: count, dtype: int64\n"
     ]
    }
   ],
   "source": [
    "# WE can fill the Emabar Column with high repetative value\n",
    "print(\"Before Filling: \", data['Embarked'].value_counts() )  # S is the highest value so let's fill the NaN with it\n",
    "\n",
    "data ['Embarked']   =  data['Embarked'].fillna(\"S\")\n",
    "print(\"After Filling: \", data['Embarked'].value_counts())    # By Comparing with the above data 2 entires has been added to S"
   ]
  },
  {
   "cell_type": "markdown",
   "id": "86201d43-88df-4cbd-a8dd-d20d2e9db341",
   "metadata": {},
   "source": [
    "### Categorical Data Encoding: "
   ]
  },
  {
   "cell_type": "markdown",
   "id": "6d1e93ee-2cca-46fb-b4f7-e2e8d408fb9b",
   "metadata": {},
   "source": [
    "#### The strings columns can not be used for analysis purpose that's why we convert them into numeric data via encoding"
   ]
  },
  {
   "cell_type": "code",
   "execution_count": 56,
   "id": "a50f5396-3432-4ca8-a05c-66e0b7ef5b7c",
   "metadata": {},
   "outputs": [],
   "source": [
    "# First Lets Check the Sex coloumn\n",
    "data['Sex'].unique()      # We can map them to 1 and 0 for male and female\n",
    "data['Encoded_Sex'] = data['Sex'].map({'male':1,'female':0})"
   ]
  },
  {
   "cell_type": "markdown",
   "id": "f5909f96-4b46-40d3-8692-3d6425e7338b",
   "metadata": {},
   "source": [
    "#### How to insert a column at specific location/ index\n"
   ]
  },
  {
   "cell_type": "code",
   "execution_count": 57,
   "id": "ea40295f-7b1b-4e1c-bcf7-8b54bdf4fff6",
   "metadata": {},
   "outputs": [],
   "source": [
    "# for adding new col at index we use insert(loc, col_Name, Expression). taking 3 arguments. \n",
    "exp = data['Sex'].map({'male':1,'female':0})\n",
    "data.insert(5,\"Gender\",exp)"
   ]
  },
  {
   "cell_type": "code",
   "execution_count": 58,
   "id": "8b13d3f1-b845-49af-8078-a38915ee4775",
   "metadata": {},
   "outputs": [
    {
     "data": {
      "text/plain": [
       "array(['S', 'C', 'Q'], dtype=object)"
      ]
     },
     "execution_count": 58,
     "metadata": {},
     "output_type": "execute_result"
    }
   ],
   "source": [
    "# Now we need to Replace the Embarked column by integer\n",
    "data['Embarked'].unique()   # It has 3 categories"
   ]
  },
  {
   "cell_type": "code",
   "execution_count": 74,
   "id": "480fdc74-58de-4124-921a-d8d604b3ebfc",
   "metadata": {},
   "outputs": [
    {
     "data": {
      "text/html": [
       "<div>\n",
       "<style scoped>\n",
       "    .dataframe tbody tr th:only-of-type {\n",
       "        vertical-align: middle;\n",
       "    }\n",
       "\n",
       "    .dataframe tbody tr th {\n",
       "        vertical-align: top;\n",
       "    }\n",
       "\n",
       "    .dataframe thead th {\n",
       "        text-align: right;\n",
       "    }\n",
       "</style>\n",
       "<table border=\"1\" class=\"dataframe\">\n",
       "  <thead>\n",
       "    <tr style=\"text-align: right;\">\n",
       "      <th></th>\n",
       "      <th>PassengerId</th>\n",
       "      <th>Survived</th>\n",
       "      <th>Pclass</th>\n",
       "      <th>Name</th>\n",
       "      <th>Sex</th>\n",
       "      <th>Gender</th>\n",
       "      <th>Age</th>\n",
       "      <th>SibSp</th>\n",
       "      <th>Parch</th>\n",
       "      <th>Ticket</th>\n",
       "      <th>Fare</th>\n",
       "      <th>Encoded_Sex</th>\n",
       "      <th>Embarked_Q</th>\n",
       "      <th>Embarked_S</th>\n",
       "    </tr>\n",
       "  </thead>\n",
       "  <tbody>\n",
       "    <tr>\n",
       "      <th>0</th>\n",
       "      <td>1</td>\n",
       "      <td>0</td>\n",
       "      <td>3</td>\n",
       "      <td>Braund, Mr. Owen Harris</td>\n",
       "      <td>male</td>\n",
       "      <td>1</td>\n",
       "      <td>22.0</td>\n",
       "      <td>1</td>\n",
       "      <td>0</td>\n",
       "      <td>A/5 21171</td>\n",
       "      <td>7.25</td>\n",
       "      <td>1</td>\n",
       "      <td>0</td>\n",
       "      <td>1</td>\n",
       "    </tr>\n",
       "  </tbody>\n",
       "</table>\n",
       "</div>"
      ],
      "text/plain": [
       "   PassengerId  Survived  Pclass                     Name   Sex  Gender   Age  \\\n",
       "0            1         0       3  Braund, Mr. Owen Harris  male       1  22.0   \n",
       "\n",
       "   SibSp  Parch     Ticket  Fare  Encoded_Sex  Embarked_Q  Embarked_S  \n",
       "0      1      0  A/5 21171  7.25            1           0           1  "
      ]
     },
     "execution_count": 74,
     "metadata": {},
     "output_type": "execute_result"
    }
   ],
   "source": [
    "data1 = pd.get_dummies(data,columns = ['Embarked'],drop_first = True)\n",
    "\n",
    "\n",
    "# the embarked col is of Boolien type. To convet is into in we can use astype()\n",
    "data1[['Embarked_Q', 'Embarked_S']] = data1[['Embarked_Q', 'Embarked_S']].astype(int)\n",
    "data1.head(1)"
   ]
  },
  {
   "cell_type": "markdown",
   "id": "33f0ae9c-b945-40b1-a2ba-ca1dd0caf2b0",
   "metadata": {},
   "source": [
    "### Univiriate Analysis"
   ]
  },
  {
   "cell_type": "code",
   "execution_count": 60,
   "id": "fe585c04-aed2-4ebb-8f77-46c0d0353e3c",
   "metadata": {},
   "outputs": [
    {
     "data": {
      "text/plain": [
       "Survived\n",
       "0    549\n",
       "1    342\n",
       "Name: count, dtype: int64"
      ]
     },
     "execution_count": 60,
     "metadata": {},
     "output_type": "execute_result"
    }
   ],
   "source": [
    "# One varible/categorical data will be analyised\n",
    "data['Survived'].value_counts()"
   ]
  },
  {
   "cell_type": "code",
   "execution_count": 82,
   "id": "017b67ca-3a4a-46bb-a699-db2fee1963cc",
   "metadata": {},
   "outputs": [
    {
     "data": {
      "image/png": "[encoded data removed]",
      "text/plain": [
       "<Figure size 640x480 with 1 Axes>"
      ]
     },
     "metadata": {},
     "output_type": "display_data"
    }
   ],
   "source": [
    "ax = sns.countplot(x = data['Survived'])\n",
    "for labels in ax.containers:\n",
    "    ax.bar_label(labels)"
   ]
  },
  {
   "cell_type": "code",
   "execution_count": 77,
   "id": "1d67fe2d-a39b-47c7-89bc-51bca414ff60",
   "metadata": {
    "scrolled": true
   },
   "outputs": [
    {
     "data": {
      "text/plain": [
       "Pclass\n",
       "3    491\n",
       "1    216\n",
       "2    184\n",
       "Name: count, dtype: int64"
      ]
     },
     "execution_count": 77,
     "metadata": {},
     "output_type": "execute_result"
    }
   ],
   "source": [
    "# How many Passanger were in first 2nd and 3rd Class\n",
    "data['Pclass'].value_counts()"
   ]
  },
  {
   "cell_type": "code",
   "execution_count": 89,
   "id": "9e62eaf4-50c9-4ac9-a354-e53c1e454a69",
   "metadata": {},
   "outputs": [
    {
     "data": {
      "image/png": "[encoded data removed]",
      "text/plain": [
       "<Figure size 640x480 with 1 Axes>"
      ]
     },
     "metadata": {},
     "output_type": "display_data"
    }
   ],
   "source": [
    "# Creating the countplot with hue\n",
    "ax = sns.countplot(x='Pclass', data=data)\n",
    "for labels in ax.containers:\n",
    "    ax.bar_label(labels)\n",
    "plt.show()\n"
   ]
  },
  {
   "cell_type": "code",
   "execution_count": 126,
   "id": "df87bcda-d299-4dca-8bbf-ff275f1198c4",
   "metadata": {},
   "outputs": [],
   "source": [
    "data1['Alive_Female'] = data[(data['Survived'] == 1) & (data['Sex'] == 'female')]['Sex']\n"
   ]
  },
  {
   "cell_type": "code",
   "execution_count": 130,
   "id": "eb632282",
   "metadata": {},
   "outputs": [],
   "source": [
    "data1['Alive_Male'] = data[(data['Survived'] == 1) & (data['Sex'] == 'male')]['Sex']\n"
   ]
  },
  {
   "cell_type": "code",
   "execution_count": 141,
   "id": "57afbebb-4b2d-440d-8e29-52bd01612e53",
   "metadata": {},
   "outputs": [
    {
     "data": {
      "image/png": "[encoded data removed]",
      "text/plain": [
       "<Figure size 640x480 with 1 Axes>"
      ]
     },
     "metadata": {},
     "output_type": "display_data"
    }
   ],
   "source": [
    "# the plot gives info about people who belongs to 1 class both male and female are shown on a different color.\n",
    "ax = sns.countplot(x = data1['Pclass'],hue = data1['Sex'])\n",
    "for labels in ax.containers:\n",
    "    ax.bar_label(labels)\n",
    "plt.show()"
   ]
  },
  {
   "cell_type": "code",
   "execution_count": 147,
   "id": "da93b564-2d88-40cb-8ad2-cd8772794984",
   "metadata": {},
   "outputs": [
    {
     "data": {
      "image/png": "[encoded data removed]",
      "text/plain": [
       "<Figure size 640x480 with 1 Axes>"
      ]
     },
     "metadata": {},
     "output_type": "display_data"
    }
   ],
   "source": [
    "# To show how many people were alived from the different classes. We can't do this directly. Wo we need to get the data of those males\n",
    "# and females we need to change the data. So we got only that data where all the people were alive\n",
    "survived_data = data1[data1['Survived'] == 1]\n",
    "# Create a countplot with hue for Sex\n",
    "ax = sns.countplot(x='Pclass', hue='Sex', data=survived_data)\n",
    "for labels in ax.containers:\n",
    "    ax.bar_label(labels)\n",
    "plt.show()"
   ]
  },
  {
   "cell_type": "code",
   "execution_count": 158,
   "id": "0acfcf26-3be9-4b98-89a3-d5b6f0f6b231",
   "metadata": {},
   "outputs": [
    {
     "data": {
      "image/png": "[encoded data removed]",
      "text/plain": [
       "<Figure size 640x480 with 1 Axes>"
      ]
     },
     "metadata": {},
     "output_type": "display_data"
    }
   ],
   "source": [
    "# Total number of male and Female and to check the age as well\n",
    "data['Sex'].value_counts()\n",
    "data['Age'].hist(edgecolor = 'k',color = 'lightgreen',log = True)\n",
    "plt.show()"
   ]
  },
  {
   "cell_type": "code",
   "execution_count": 157,
   "id": "6b00e3af-5184-4b26-86df-34c3a6577128",
   "metadata": {},
   "outputs": [
    {
     "data": {
      "text/plain": [
       "<Axes: ylabel='Age'>"
      ]
     },
     "execution_count": 157,
     "metadata": {},
     "output_type": "execute_result"
    },
    {
     "data": {
      "image/png": "[encoded data removed]",
      "text/plain": [
       "<Figure size 640x480 with 1 Axes>"
      ]
     },
     "metadata": {},
     "output_type": "display_data"
    }
   ],
   "source": [
    "sns.boxplot(data['Age'],color = 'lightblue')"
   ]
  },
  {
   "cell_type": "markdown",
   "id": "cd087052-3a02-4705-b398-bd0c97dd6ab2",
   "metadata": {},
   "source": [
    "### Bivariate Analysis\n"
   ]
  },
  {
   "cell_type": "code",
   "execution_count": 160,
   "id": "b3c2c86a-6d59-48d3-87db-46bde2429222",
   "metadata": {},
   "outputs": [
    {
     "data": {
      "image/png": "[encoded data removed]",
      "text/plain": [
       "<Figure size 640x480 with 1 Axes>"
      ]
     },
     "metadata": {},
     "output_type": "display_data"
    }
   ],
   "source": [
    "# Survival Rate by Class\n",
    "\n",
    "# Calculate survival rate by class\n",
    "class_survival_rate = data1.groupby('Pclass')['Survived'].mean().reset_index()\n",
    "\n",
    "# Create a bar plot of survival rates by class\n",
    "sns.barplot(x='Pclass', y='Survived', data=class_survival_rate)\n",
    "\n",
    "plt.title('Survival Rate by Passenger Class')\n",
    "plt.xlabel('Passenger Class')\n",
    "plt.ylabel('Survival Rate')\n",
    "plt.show()"
   ]
  },
  {
   "cell_type": "code",
   "execution_count": 162,
   "id": "95a85944-5a24-486e-9008-f20c73d70b34",
   "metadata": {},
   "outputs": [
    {
     "data": {
      "image/png": "[encoded data removed]",
      "text/plain": [
       "<Figure size 640x480 with 1 Axes>"
      ]
     },
     "metadata": {},
     "output_type": "display_data"
    }
   ],
   "source": [
    "# Survival Rate by Sex\n",
    "\n",
    "# Calculate survival rate by class\n",
    "Sex_survival_rate = data1.groupby('Sex')['Survived'].mean().reset_index()\n",
    "\n",
    "# Create a bar plot of survival rates by class\n",
    "sns.barplot(x='Sex', y='Survived', data=Sex_survival_rate)\n",
    "\n",
    "plt.title('Survival Rate by Passenger Class')\n",
    "plt.xlabel('Passenger Class')\n",
    "plt.ylabel('Survival Rate')\n",
    "plt.show()"
   ]
  },
  {
   "cell_type": "code",
   "execution_count": 166,
   "id": "077491e1-b309-4988-b774-14b978adfddc",
   "metadata": {},
   "outputs": [
    {
     "name": "stderr",
     "output_type": "stream",
     "text": [
      "C:\\Users\\Ozair Khan\\AppData\\Local\\Temp\\ipykernel_2976\\2623133718.py:8: FutureWarning: The default of observed=False is deprecated and will be changed to True in a future version of pandas. Pass observed=False to retain current behavior or observed=True to adopt the future default and silence this warning.\n",
      "  fare_group_survival_rate = data1.groupby('FareGroup')['Survived'].mean().reset_index()\n"
     ]
    },
    {
     "data": {
      "image/png": "[encoded data removed]",
      "text/plain": [
       "<Figure size 640x480 with 1 Axes>"
      ]
     },
     "metadata": {},
     "output_type": "display_data"
    }
   ],
   "source": [
    "# Surviva rate by Fare\n",
    "# Define fare bins\n",
    "fare_bins = [0, 10, 30, 50, 100, 200, 1000]\n",
    "fare_labels = ['0-10', '11-30', '31-50', '51-100', '101-200', '201+']\n",
    "data1['FareGroup'] = pd.cut(data1['Fare'], bins=fare_bins, labels=fare_labels)\n",
    "\n",
    "# Calculate survival rate by fare group\n",
    "fare_group_survival_rate = data1.groupby('FareGroup')['Survived'].mean().reset_index()\n",
    "\n",
    "# Create a bar plot of survival rates by fare group\n",
    "sns.barplot(x='FareGroup', y='Survived', data=fare_group_survival_rate)\n",
    "\n",
    "plt.title('Survival Rate by Fare Group')\n",
    "plt.xlabel('Fare Group')\n",
    "plt.ylabel('Survival Rate')\n",
    "plt.show()\n"
   ]
  },
  {
   "cell_type": "code",
   "execution_count": 169,
   "id": "6cb6e5bf-940a-4abb-9c7d-5c5dacb97571",
   "metadata": {},
   "outputs": [
    {
     "name": "stderr",
     "output_type": "stream",
     "text": [
      "C:\\Users\\Ozair Khan\\AppData\\Local\\Temp\\ipykernel_2976\\1973392860.py:8: FutureWarning: The default of observed=False is deprecated and will be changed to True in a future version of pandas. Pass observed=False to retain current behavior or observed=True to adopt the future default and silence this warning.\n",
      "  age_group_survival_rate = data1.groupby('AgeGroup')['Survived'].mean().reset_index()\n"
     ]
    },
    {
     "data": {
      "image/png": "[encoded data removed]",
      "text/plain": [
       "<Figure size 640x480 with 1 Axes>"
      ]
     },
     "metadata": {},
     "output_type": "display_data"
    }
   ],
   "source": [
    "# By Age Groups\n",
    "# Define age bins\n",
    "bins = [0, 12, 18, 30, 40, 60, 100]\n",
    "labels = ['0-12', '13-18', '19-30', '31-40', '41-60', '61+']\n",
    "data1['AgeGroup'] = pd.cut(data1['Age'], bins=bins, labels=labels)\n",
    "\n",
    "# Calculate survival rate by age group\n",
    "age_group_survival_rate = data1.groupby('AgeGroup')['Survived'].mean().reset_index()\n",
    "\n",
    "# Create a bar plot of survival rates by age group\n",
    "sns.barplot(x='AgeGroup', y='Survived', data=age_group_survival_rate)\n",
    "\n",
    "plt.title('Survival Rate by Age Group')\n",
    "plt.xlabel('Age Group')\n",
    "plt.ylabel('Survival Rate')\n",
    "plt.show()\n"
   ]
  },
  {
   "cell_type": "markdown",
   "id": "3b215b08-671a-4052-bc8e-c81ef4c2d146",
   "metadata": {},
   "source": [
    "### Featuring Engineering"
   ]
  },
  {
   "cell_type": "code",
   "execution_count": 171,
   "id": "b863168d-ade2-445e-94d5-1a292e127667",
   "metadata": {},
   "outputs": [],
   "source": [
    "# To make a Family from the two classes\n",
    "data1['Family'] = data['SibSp'] + data['Parch']"
   ]
  },
  {
   "cell_type": "code",
   "execution_count": 174,
   "id": "5250c4b9-f135-48da-a3b3-f8d0b565582f",
   "metadata": {},
   "outputs": [],
   "source": [
    "# Now we can easily find the Fare per person\n",
    "\n",
    "data1['Fare_Per_Person'] = data1['Fare']/data1['Family']"
   ]
  },
  {
   "cell_type": "code",
   "execution_count": 175,
   "id": "f1e7321b-040f-4bb8-89bc-645f57158ba4",
   "metadata": {},
   "outputs": [
    {
     "data": {
      "text/html": [
       "<div>\n",
       "<style scoped>\n",
       "    .dataframe tbody tr th:only-of-type {\n",
       "        vertical-align: middle;\n",
       "    }\n",
       "\n",
       "    .dataframe tbody tr th {\n",
       "        vertical-align: top;\n",
       "    }\n",
       "\n",
       "    .dataframe thead th {\n",
       "        text-align: right;\n",
       "    }\n",
       "</style>\n",
       "<table border=\"1\" class=\"dataframe\">\n",
       "  <thead>\n",
       "    <tr style=\"text-align: right;\">\n",
       "      <th></th>\n",
       "      <th>PassengerId</th>\n",
       "      <th>Survived</th>\n",
       "      <th>Pclass</th>\n",
       "      <th>Name</th>\n",
       "      <th>Sex</th>\n",
       "      <th>Gender</th>\n",
       "      <th>Age</th>\n",
       "      <th>SibSp</th>\n",
       "      <th>Parch</th>\n",
       "      <th>Ticket</th>\n",
       "      <th>Fare</th>\n",
       "      <th>Encoded_Sex</th>\n",
       "      <th>Embarked_Q</th>\n",
       "      <th>Embarked_S</th>\n",
       "      <th>Alive_Female</th>\n",
       "      <th>Alive_Male</th>\n",
       "      <th>FareGroup</th>\n",
       "      <th>AgeGroup</th>\n",
       "      <th>Family</th>\n",
       "      <th>Fare_Per_Person</th>\n",
       "    </tr>\n",
       "  </thead>\n",
       "  <tbody>\n",
       "    <tr>\n",
       "      <th>0</th>\n",
       "      <td>1</td>\n",
       "      <td>0</td>\n",
       "      <td>3</td>\n",
       "      <td>Braund, Mr. Owen Harris</td>\n",
       "      <td>male</td>\n",
       "      <td>1</td>\n",
       "      <td>22.0</td>\n",
       "      <td>1</td>\n",
       "      <td>0</td>\n",
       "      <td>A/5 21171</td>\n",
       "      <td>7.25</td>\n",
       "      <td>1</td>\n",
       "      <td>0</td>\n",
       "      <td>1</td>\n",
       "      <td>NaN</td>\n",
       "      <td>NaN</td>\n",
       "      <td>0-10</td>\n",
       "      <td>19-30</td>\n",
       "      <td>1</td>\n",
       "      <td>7.25</td>\n",
       "    </tr>\n",
       "  </tbody>\n",
       "</table>\n",
       "</div>"
      ],
      "text/plain": [
       "   PassengerId  Survived  Pclass                     Name   Sex  Gender   Age  \\\n",
       "0            1         0       3  Braund, Mr. Owen Harris  male       1  22.0   \n",
       "\n",
       "   SibSp  Parch     Ticket  Fare  Encoded_Sex  Embarked_Q  Embarked_S  \\\n",
       "0      1      0  A/5 21171  7.25            1           0           1   \n",
       "\n",
       "  Alive_Female Alive_Male FareGroup AgeGroup  Family  Fare_Per_Person  \n",
       "0          NaN        NaN      0-10    19-30       1             7.25  "
      ]
     },
     "execution_count": 175,
     "metadata": {},
     "output_type": "execute_result"
    }
   ],
   "source": []
  },
  {
   "cell_type": "code",
   "execution_count": null,
   "id": "12cf028b-5f96-4340-9c24-7d7dd40ebf79",
   "metadata": {},
   "outputs": [],
   "source": []
  }
 ],
 "metadata": {
  "kernelspec": {
   "display_name": "Python 3 (ipykernel)",
   "language": "python",
   "name": "python3"
  },
  "language_info": {
   "codemirror_mode": {
    "name": "ipython",
    "version": 3
   },
   "file_extension": ".py",
   "mimetype": "text/x-python",
   "name": "python",
   "nbconvert_exporter": "python",
   "pygments_lexer": "ipython3",
   "version": "3.11.4"
  }
 },
 "nbformat": 4,
 "nbformat_minor": 5
}
